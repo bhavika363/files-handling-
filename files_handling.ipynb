{
  "nbformat": 4,
  "nbformat_minor": 0,
  "metadata": {
    "colab": {
      "provenance": []
    },
    "kernelspec": {
      "name": "python3",
      "display_name": "Python 3"
    },
    "language_info": {
      "name": "python"
    }
  },
  "cells": [
    {
      "cell_type": "markdown",
      "source": [
        "#FILE HANDLING"
      ],
      "metadata": {
        "id": "bQq5e9qzbS1g"
      }
    },
    {
      "cell_type": "markdown",
      "source": [
        "#THEORITICAL"
      ],
      "metadata": {
        "id": "zy64L12TbcDk"
      }
    },
    {
      "cell_type": "markdown",
      "source": [
        "Q-1 WHAT IS THE DIFFERENCE BETWEEN INTEPRETED AND COMPILED LANGUAGE?\n",
        "\n",
        "A-1\n",
        "   \n",
        "    COMPLED LANGUAGE\n",
        "    \n",
        "    : translate the whole code into machine code before execution\n",
        "    \n",
        "    : faster at runtime needs to compilation step\n",
        "    \n",
        "    Intepreted language\n",
        "\n",
        "    : executes code line by line using an iterpreter\n",
        "    \n",
        "    : slower at runtime, easier to test\n",
        "      examples- python,javascript"
      ],
      "metadata": {
        "id": "zsow2w0xbiia"
      }
    },
    {
      "cell_type": "markdown",
      "source": [
        "Q-2 WHAT IS EXCEPTION HANDLING IN PYTHON?\n",
        "\n",
        "A-2 Exception handling in python is a way to manage errors that occurs during program execution , so the program doesnot crash."
      ],
      "metadata": {
        "id": "-9dHWtMdbrdw"
      }
    },
    {
      "cell_type": "markdown",
      "source": [
        "Q-3 WHAT IS THE PURPOSE OF THE FINALLY BLOCK IN EXCEPTION HANDLING?\n",
        "\n",
        "A-3 The finally block in exception handling is used to execute code that needs to run regardless of wheather an exception was thrown or not .It is typically used for cleanup actions, such as:\n",
        "\n",
        "\n",
        " : closing files or database connections\n",
        "\n",
        " : releasing system resource\n",
        "\n",
        " : logging or auditinh\n",
        "\n",
        " : restoring system state"
      ],
      "metadata": {
        "id": "Q0p2qac-by-C"
      }
    },
    {
      "cell_type": "markdown",
      "source": [
        "Q-4 WHAT IS LOGGING IN PYTHON?\n",
        "\n",
        "A-4 Logging in python is away to track events happening during the execution of a program. it allows you to record information about the program's behaviour , such as errors , warnings and debug messages."
      ],
      "metadata": {
        "id": "YcGqJjCVb69w"
      }
    },
    {
      "cell_type": "markdown",
      "source": [
        "Q-5 WHAT IS THE SIGNIFICANCE OF __ del__ METHOD IN PYTHON?\n",
        "\n",
        "A-5 It is a special method thatbis automatically called when an object is about to be destroyed.\n",
        "\n",
        "the significance is:\n",
        "   1. resource cleanup\n",
        "   2. memory management\n",
        "   3. finalization"
      ],
      "metadata": {
        "id": "jbOhuPYocAsB"
      }
    },
    {
      "cell_type": "markdown",
      "source": [
        "Q-6 WHAT IS THE DIFFERENCE BETWEEN import  AND from...import IN PYTHON?\n",
        "\n",
        "A-6 The import statement imports an entire module, and you can access its contents using the module name.\n",
        "\n",
        "   The from...import statement imports specific components\n",
        "   (functions, variables,classes) from a module , and you can use them directly without prefixing the module name."
      ],
      "metadata": {
        "id": "CeEiotTVcPBi"
      }
    },
    {
      "cell_type": "markdown",
      "source": [
        "Q-7 HOW CAN YOU HANDLE MULTIPLE EXCEPTIONS IN PYTHON?\n",
        "\n",
        "A-7   \n",
        "      : Using try catch block to handle exceptions.\n",
        "      \n",
        "      : whenever exception occurs; python stops the program and generate exceptions\n",
        "      \n",
        "      : handling this exception is advised\n",
        "      \n",
        "      : every code that is risky/ suspicious you should do exception handling."
      ],
      "metadata": {
        "id": "Lkp-bHAMcddX"
      }
    },
    {
      "cell_type": "markdown",
      "source": [
        "Q-8 WHAT IS THE PURPOSE OF THE WITH STATEMENT WHEN HANDLING FILES IN PYTHON?\n",
        "\n",
        "A-8 The with statement in python is used to manage resources such as files, connections or locks that require setup and teardown actions\n",
        "\n",
        "  the purposes of with statement:\n",
        "\n",
        "  : automatic file closure\n",
        "  \n",
        "  : exception handling\n",
        "  \n",
        "  : code readability\n",
        "\n",
        "  benefits-\n",
        "\n",
        "  : prevents file descriptor leaks\n",
        "  \n",
        "  : reduces boilerplate code\n",
        "\n",
        "  : improves code reliability\n",
        "\n",
        "  with is the best practice as it ensures that files care properly managed and resources are released."
      ],
      "metadata": {
        "id": "X9OvKLhKcn8F"
      }
    },
    {
      "cell_type": "markdown",
      "source": [
        "Q-9 WHAT IS THE DIFFERENCE BETWEEN MULTITHREADING AND MULTIPROCESSING?\n",
        "\n",
        "A-9 Multithreading and multiprocessing are two different approacges to achieve concurrency in program\n",
        "\n",
        "Multithreading:\n",
        "     \n",
        "     1. single process; they share same process and memory space\n",
        "\n",
        "    2. lightweight; creating a new thread is faster and more lightweight that creating a new process\n",
        "\n",
        "    3. shared resources; threads can eccess shared resources with the same process.\n",
        "\n",
        "    4. global intepreter lock\n",
        "\n",
        "Multiprocessing:\n",
        "      \n",
        "      1. multiple processes; each process hasd its own memory ans space.\n",
        "\n",
        "      2. heavyweight; creating a new process is slower than creating a new thread\n",
        "\n",
        "      3. seperate resources; processes do not share resources\n",
        "\n",
        "      4. no GIL limitation\n",
        "\n",
        "      muktithreading is suitable for I/O - bound tasks and cooperative multitasking while multiprocessing is better suited for CPU BOUND tasks and applications that require true parallelism.\n",
        "\n"
      ],
      "metadata": {
        "id": "mOxhh81Vc1Lb"
      }
    },
    {
      "cell_type": "markdown",
      "source": [
        "Q-10 WHAT ARE THE ADVANTAGES OF USING LOGGING IN A PROGRAM?\n",
        "\n",
        "A-10\n",
        "\n",
        "     1. Debugging:\n",
        "     \n",
        "     2. error tracking\n",
        "\n",
        "     3. auditing\n",
        "\n",
        "     4. performance monitoring\n",
        "\n",
        "     5. troubleshooting\n",
        "\n",
        "     6. improved maintainability\n",
        "\n",
        "     7. enhanced security\n",
        "\n",
        "     8. compilance"
      ],
      "metadata": {
        "id": "ZQhr6fo6c_1v"
      }
    },
    {
      "cell_type": "markdown",
      "source": [
        "Q-11 WHAT IS THE MEMORY MANAGEMENT IN PYTHON?\n",
        "\n",
        "A-11 Python's memory management is handled by a private heap, which is a pool of memory that's allocated for python's use.\n",
        "\n",
        "By understanding pythons memory management, you can write more efficient and effective code , avoiding common pitfalla like memory leaks and performance issues."
      ],
      "metadata": {
        "id": "WyJKmpSEdKWJ"
      }
    },
    {
      "cell_type": "markdown",
      "source": [
        "Q-12 WHAT ARE THE BASIC STEPS INVOLVED IN EXCEPTION HANDLING IN PYTHON?"
      ],
      "metadata": {
        "id": "9Hu1Cc9KdQgs"
      }
    },
    {
      "cell_type": "markdown",
      "source": [
        "A-12 Basic steps involved are:\n",
        "\n",
        "  1. Try: wrap the code that might raise an exception in a try block\n",
        "\n",
        "  2. Except: use one or more except blocks to catch specific exception that might be raised.\n",
        "\n",
        "  3. Handle: handle the exception in the except block by providing a suitable response or recovery action.\n",
        "\n",
        "  4. Optional:Else: use an else block to execute code that is only run if no exceptions are raised in the try block\n",
        "\n",
        "  5. Optional:Finally: use a finally block to execute code that is always run, regardless of wheather an exception is raised or not."
      ],
      "metadata": {
        "id": "1IqpaLnh5do0"
      }
    },
    {
      "cell_type": "markdown",
      "source": [
        "Q-13 WHY IS MEMORY MANAGEMENT IMPORTANT IN PYTHON?\n",
        "\n",
        "A-13  \n",
        "     1. PREVENTS MEMORY LEAKS\n",
        "    \n",
        "     2. optimize performance\n",
        "     \n",
        "     3. reduces crashes\n",
        "     \n",
        "     4. improves reliability\n",
        "     \n",
        "     5. supports large datasets\n",
        "\n",
        "     by this we can write more efficient,reliable and scalable code.\n"
      ],
      "metadata": {
        "id": "LNzwuc7xdi96"
      }
    },
    {
      "cell_type": "markdown",
      "source": [],
      "metadata": {
        "id": "TThQ3O1a62PX"
      }
    },
    {
      "cell_type": "markdown",
      "source": [
        "Q-14 WHAT IS THE ROLE OF TRY AND EXCEPT IN EXCEPTION HANDLING?\n",
        "\n",
        "A-14\n",
        "      TRY BLOCK:\n",
        "      \n",
        "      1. CODE EXECUTION:  the try block contains the code that might raise an exception.\n",
        "\n",
        "      2. EXCEPTION DETECTION: if an exception occurs in try block, python stops executing the code in the block and searches for an except block to handle the exception\n",
        "\n",
        "      EXCEPT BLOCK:\n",
        "\n",
        "      1. EXCEPTION HANDLING: the except block contains the code that handles the exception raised in the try block\n",
        "\n",
        "      2. SPECIFIC EXCEPTION HANDLING: you can specify the type of exception to catch allowing you to handle different exceptions in different ways\n",
        "\n",
        "      3. ERROR HANDLING: the except block can contain code to log the error, provide a user-friendly error message or take alternative actions."
      ],
      "metadata": {
        "id": "Gw6pJbCsdvpO"
      }
    },
    {
      "cell_type": "markdown",
      "source": [
        "Q-15 HOW DOES PYTHON'S GARBAGE COLLECTION SYSTEM WORK?\n",
        "\n",
        "A-15   \n",
        "      python's garbage colleaction system is a memory amnagement mechanism that automatically frees memory occupied by objects that are no longer needed\n",
        "\n",
        "      1. OBJECT CREATION: when an object is created, python assigns a reference count 1 to it\n",
        "\n",
        "      2. reference increment: when a reference to the object is created the reference count is incremented\n",
        "\n",
        "      3. reference decrement: when a reference to the object is removed the reference count is decremented.\n",
        "\n",
        "      4. object deletion: when the reference count reacges 0 the object is deleted and its memory is freed."
      ],
      "metadata": {
        "id": "DZegkf5qd8A6"
      }
    },
    {
      "cell_type": "markdown",
      "source": [
        "Q-16 WHAT IS THE PURPOSE OF THE ELSE BLOCK IN EXCEPTION HANDLING?\n",
        "\n",
        "A-16 The else block in exception handling is used to specify code that should be executed if no exceptions are raised in try block\n",
        "\n",
        "the purpse of else block is:\n",
        "\n",
        "1. execute code when no exceptions\n",
        "\n",
        "2. seperate normal execution from exception handling.\n",
        "\n",
        "3. improve code readability"
      ],
      "metadata": {
        "id": "8nmphJ13eHra"
      }
    },
    {
      "cell_type": "markdown",
      "source": [
        "Q-17 WHAT ARE THE COMMON LOGGING LEVELS IN PYTHON?\n",
        "\n",
        "A-17\n",
        " 1. DEBUG: detailed information,typically of intrest only when diagnosing problems\n",
        "\n",
        " 2. INFO: confirmation that things are working as expected\n",
        "\n",
        " 3. WARNING: an indication that something unexpected happened, or indicative of some problem in the near future.\n",
        "\n",
        " 4. ERROR: due to more serious problem, the software has not been able to perform some function\n",
        "\n",
        " 5. CRITICAL: A serious error, imdicating that the program itself may be unable to continue running"
      ],
      "metadata": {
        "id": "Op85PE56eRp9"
      }
    },
    {
      "cell_type": "markdown",
      "source": [
        "Q-18 WHAT IS THE DIFFERENCE BETWEEN os.fork() AND file.readline() in python?\n",
        "\n",
        "A-18  \n",
        "      os.fork()\n",
        "      it creates a new process by duplicating the current process\n",
        "\n",
        "      use case: it is typically used in unix like system for process creation , parallel processing and concurrent execution.\n",
        "\n",
        "\n",
        "      file.readline()\n",
        "       it reads a single line from a line\n",
        "\n",
        "       use case: it is commonly used for reading configuration files,log files, or any text file that need to be processed line by line.\n",
        "\n",
        "       \n"
      ],
      "metadata": {
        "id": "p4jLiZ5MeXnJ"
      }
    },
    {
      "cell_type": "markdown",
      "source": [
        "Q-19 WHAT IS THE IMPORTANCE OF CLOSING A FILE IN PYTHON?\n",
        "\n",
        "A-19\n",
        "1. RESOURCE MANAGMENT: closing the file releases these resources, making them available for other tasks\n",
        "\n",
        "2. DATA INTEGRITY : it ensures that any buffered data is written to the file, reducing the risk of data loss or corruption\n",
        "\n",
        "3. FILE ACCESS: it prevents file locking issues.\n",
        "\n",
        "4. SECURITY : closing a file can help prevent unauthorized access to sensitive data"
      ],
      "metadata": {
        "id": "tPr6Xovjel23"
      }
    },
    {
      "cell_type": "markdown",
      "source": [
        "Q-20 WHAT IS THE DIFFERENCE BETWEEN file.read() and file.readline() IN PYTHON?\n",
        "\n",
        "A-20 file.read() reads entire file as a single string\n",
        "      \n",
        "    file. readline() reads one line from the line at the time"
      ],
      "metadata": {
        "id": "NDiCpjD6et4j"
      }
    },
    {
      "cell_type": "markdown",
      "source": [
        "Q-21 WHAT IS THE LOGGING MODULE IN PYTHON USED FOR?\n",
        "\n",
        "A-21 IT IS USED FOR-\n",
        "     \n",
        "      1. record messages about a program's execution\n",
        "\n",
        "      2. track events, errors, warnings\n",
        "\n",
        "      3. help with debugging and monitoring\n",
        "\n",
        "      4. store logs to console or files"
      ],
      "metadata": {
        "id": "WgBc7LvyfDdD"
      }
    },
    {
      "cell_type": "markdown",
      "source": [
        "Q-22 WHAT IS THE os module IN PYTHON USED FOR IN FILE HANDLING ?\n",
        "\n",
        "A-22 IT IS USED FOR:\n",
        "\n",
        "   1. interact with the file system\n",
        "\n",
        "   2. create,delete,rename,move files/ directories\n",
        "\n",
        "   3. get file properties(size,path)\n",
        "   "
      ],
      "metadata": {
        "id": "ROr-BqO0fLVr"
      }
    },
    {
      "cell_type": "markdown",
      "source": [
        "Q-23 WHAT ARE THE CHALLANGES ASSOCIATED WITH MEMORY MANAGEMENT IN PYTHON?\n",
        "\n",
        "A-23 CHALLENGES ARE:\n",
        "\n",
        "1. garbage collection overhead: can cause performance lags\n",
        "\n",
        "2. memory leaks: from lingering references or circular refrences\n",
        "\n",
        "3. high memory usage: python objects can be memory heavy\n",
        "\n",
        "4. manual control is limited: developers rely on python's automatic system\n",
        "\n",
        "5. circular refrences: not always cleaned up by refrence counting alone"
      ],
      "metadata": {
        "id": "B0nq5ErdfZwz"
      }
    },
    {
      "cell_type": "markdown",
      "source": [
        "Q-24 HOW DO YOU RAISE AN EXCEPTION MANUALLY IN PYTHON?\n",
        "\n",
        "A-24 Use raise followed by an exception type to trigger an error intentionally.\n",
        "\n",
        "example- raiseValueError(\"invalid input\")"
      ],
      "metadata": {
        "id": "ALRzC85_gPqK"
      }
    },
    {
      "cell_type": "markdown",
      "source": [
        "Q-25 WHY IS IT IMPORTANT TO USE MULTITHREADING IN CERTAIN APPLICATIONS?\n",
        "\n",
        "A-25 IMPORTANCE ARE:\n",
        "\n",
        "1. Improves performance for I/O bound tasks\n",
        "\n",
        "2. Allows concurrent execution, keeping the app responsiv.\n",
        "\n",
        "3. Efficient resources use by sharing memory between threads\n",
        "\n",
        "4. Faster execution when waiting on slow operations."
      ],
      "metadata": {
        "id": "_Hk2KJPVgYlZ"
      }
    },
    {
      "cell_type": "markdown",
      "source": [
        "#PRACTICAL"
      ],
      "metadata": {
        "id": "TtC7QG-Pgplx"
      }
    },
    {
      "cell_type": "markdown",
      "source": [
        "Q-1 HOW CAN YOU OPEN A FILE FOR WRITING IN PYTHON AND WRITE A STRING TO IT?"
      ],
      "metadata": {
        "id": "2iQ1VIADe5Om"
      }
    },
    {
      "cell_type": "code",
      "source": [
        " open(\"filename.txt\" , \"w\")\n",
        " file = open(\"file,txt\" , \"w\")\n",
        "\n",
        "\n"
      ],
      "metadata": {
        "id": "R4FkjWt6hVcq"
      },
      "execution_count": 2,
      "outputs": []
    },
    {
      "cell_type": "code",
      "source": [
        "file.write(\"hi my name is bhavika\")\n",
        "file.close()"
      ],
      "metadata": {
        "id": "1jOMbCH5c0lR"
      },
      "execution_count": 4,
      "outputs": []
    },
    {
      "cell_type": "markdown",
      "source": [
        "Q-2 WRIE A PYTHON PROGRAM TO READ THE CONTENT OF A FILE AND PRINT EACH LINE?"
      ],
      "metadata": {
        "id": "yBUu7IvxirJA"
      }
    },
    {
      "cell_type": "code",
      "source": [
        "open(\"filename.txt\" , \"w\")\n",
        "file = open(\"file.txt\" , \"w\")\n",
        "file.write(\"this is my first line\")\n",
        "file.write (\"this is my second line\")\n",
        "file.write(\"this is my third line\")\n",
        "file.close()"
      ],
      "metadata": {
        "id": "OcPn6FNdi70d"
      },
      "execution_count": 5,
      "outputs": []
    },
    {
      "cell_type": "code",
      "source": [
        "f = open(\"file.txt\" , \"r\")\n",
        "f.seek(0)\n",
        "print(f.read())\n",
        "f.close"
      ],
      "metadata": {
        "colab": {
          "base_uri": "https://localhost:8080/"
        },
        "id": "Ku9uTsIncAAe",
        "outputId": "ffa3ee2e-846a-477b-e258-224b9d6934f4"
      },
      "execution_count": 7,
      "outputs": [
        {
          "output_type": "stream",
          "name": "stdout",
          "text": [
            "this is my first linethis is my second linethis is my third line\n"
          ]
        },
        {
          "output_type": "execute_result",
          "data": {
            "text/plain": [
              "<function TextIOWrapper.close()>"
            ]
          },
          "metadata": {},
          "execution_count": 7
        }
      ]
    },
    {
      "cell_type": "code",
      "source": [
        "Q-3 HOW WOULD YOU HANDLE A CASE WHERE THE FILE DOESNOT EXIST WHILE TRYING TO OPEN IT FOR READING?"
      ],
      "metadata": {
        "id": "_UuTAIX2bRK9"
      },
      "execution_count": null,
      "outputs": []
    },
    {
      "cell_type": "code",
      "source": [
        "try:\n",
        "  with open(\"example.txt\" , \"r\")as file:\n",
        "    data = file.read()\n",
        "    except Exception e:\n",
        "      print(\" the file doesnot exist:\" , e)\n",
        ""
      ],
      "metadata": {
        "colab": {
          "base_uri": "https://localhost:8080/",
          "height": 105
        },
        "id": "q1ZruuJAOSHH",
        "outputId": "acdf2b79-6ed6-4732-91ab-44846cca70e7"
      },
      "execution_count": 2,
      "outputs": [
        {
          "output_type": "error",
          "ename": "SyntaxError",
          "evalue": "invalid syntax (<ipython-input-2-08059c70ce6e>, line 4)",
          "traceback": [
            "\u001b[0;36m  File \u001b[0;32m\"<ipython-input-2-08059c70ce6e>\"\u001b[0;36m, line \u001b[0;32m4\u001b[0m\n\u001b[0;31m    except Exception e:\u001b[0m\n\u001b[0m    ^\u001b[0m\n\u001b[0;31mSyntaxError\u001b[0m\u001b[0;31m:\u001b[0m invalid syntax\n"
          ]
        }
      ]
    },
    {
      "cell_type": "markdown",
      "source": [
        "Q-4 WRITE A PYTHON SCRIPT THAT READS FROM ONE FILE AND WRITE ITS CONTENT TO ANOTHER FILE?\n"
      ],
      "metadata": {
        "id": "L0WyHRoFpRav"
      }
    },
    {
      "cell_type": "markdown",
      "source": [
        "Q-5 HOW WOULD YOU CATCH AND HANDLE DIVISION BY ZERO ERROR IN PYTHON?\n",
        "\n"
      ],
      "metadata": {
        "id": "TK5xuaSKQFVy"
      }
    },
    {
      "cell_type": "markdown",
      "source": [
        "Q-6 WRITE A PYTHON PROGRAM THAT LOGS AN ERROR MESSAGE TO A LOG FILE WHEN A DIVISION BY ZERO EXCEPTION OCCURS?"
      ],
      "metadata": {
        "id": "ACXQs7MFR3DY"
      }
    },
    {
      "cell_type": "markdown",
      "source": [
        "Q-7 HOW DO YOU LOG INFORMATION AT DIFFERENT LEVELS(INFO,ERROR,WARNING)IN PYTHON USING THE LOGGING MODULE?\n"
      ],
      "metadata": {
        "id": "uBMb-rm9SLhU"
      }
    },
    {
      "cell_type": "code",
      "source": [
        "import logging\n",
        "logging.info(\"this is info message\")\n",
        "logging.error(\"this is error message\")\n",
        "logging.warning(\"this is warning message\")\n",
        "\n"
      ],
      "metadata": {
        "colab": {
          "base_uri": "https://localhost:8080/"
        },
        "id": "P4u7y81UprgF",
        "outputId": "895746df-b3fc-4370-a036-aa8409b23c77"
      },
      "execution_count": 14,
      "outputs": [
        {
          "output_type": "stream",
          "name": "stderr",
          "text": [
            "ERROR:root:this is error message\n",
            "WARNING:root:this is warning message\n"
          ]
        }
      ]
    },
    {
      "cell_type": "markdown",
      "source": [
        "Q-8 WRITE A PROGRAM TO HANDLE A FILE OPEMIMG ERROR USING EXCEPTION HANDLING?\n"
      ],
      "metadata": {
        "id": "eFGyIND8SajT"
      }
    },
    {
      "cell_type": "code",
      "source": [
        "def open_file(file_path):\n",
        "  try:\n",
        "    with open(file_path,\"r\") as file:\n",
        "      content = file.read()\n",
        "      print(\"File content:\")\n",
        "      print(content)\n",
        "   except FileNotFoundError:\n",
        "        print(f\"Error:The file '{ file_name }' doesnot exist.\")\n",
        "        except Exception as e:\n",
        "          print(f\"An unexpected error occured: {e}\")\n",
        "\n",
        "\n",
        "\n",
        "\n",
        ""
      ],
      "metadata": {
        "colab": {
          "base_uri": "https://localhost:8080/",
          "height": 105
        },
        "id": "RGiD0jvnqi7W",
        "outputId": "e3407cd2-06de-4be8-a545-385afe69d4b1"
      },
      "execution_count": 20,
      "outputs": [
        {
          "output_type": "error",
          "ename": "IndentationError",
          "evalue": "unindent does not match any outer indentation level (<tokenize>, line 7)",
          "traceback": [
            "\u001b[0;36m  File \u001b[0;32m\"<tokenize>\"\u001b[0;36m, line \u001b[0;32m7\u001b[0m\n\u001b[0;31m    except FileNotFoundError:\u001b[0m\n\u001b[0m    ^\u001b[0m\n\u001b[0;31mIndentationError\u001b[0m\u001b[0;31m:\u001b[0m unindent does not match any outer indentation level\n"
          ]
        }
      ]
    },
    {
      "cell_type": "markdown",
      "source": [
        "Q-9 HOW CAN YOU READ A FILE LINE BY LINE AND STORE ITS CONTENT IN A LIST IN PYTHON?"
      ],
      "metadata": {
        "id": "hYFRT0o3Slaa"
      }
    },
    {
      "cell_type": "code",
      "source": [
        "def read_file_lines(line_path):\n",
        "  try:\n",
        "    with open(file_path ,\"r\")as file:\n",
        "      lines = file.readlines()\n",
        "      lines = [line.strip() for line in lines]\n",
        "      return lines\n",
        "  except FileNotFoundError:\n",
        "      print(f\"file{file_path} doesnot exists\" )\n",
        "      return[]"
      ],
      "metadata": {
        "id": "FgUEikR0s1qh"
      },
      "execution_count": 18,
      "outputs": []
    },
    {
      "cell_type": "markdown",
      "source": [
        "Q-10 HOW CAN YOPU APPEND DATA TO AN EXISTING FILE IN PYTHON?\n"
      ],
      "metadata": {
        "id": "EjXGk6PlTzvN"
      }
    },
    {
      "cell_type": "code",
      "source": [
        "open(\"file.txt\" , \"w\")\n",
        "file = open(\"file.txt \" ,\"w\")\n",
        "file.close()"
      ],
      "metadata": {
        "id": "9YYEa38juCCx"
      },
      "execution_count": 21,
      "outputs": []
    },
    {
      "cell_type": "code",
      "source": [
        "file = open(\"file.txt \" , \"w\")\n",
        "file.write(\"this is first line\")\n",
        "file.write(\"this is second line\")\n",
        "file.close()"
      ],
      "metadata": {
        "id": "kgyZuqt1u6Um"
      },
      "execution_count": 22,
      "outputs": []
    },
    {
      "cell_type": "code",
      "source": [
        "file = open(\"file.txt\" , \"a\")\n",
        "file.write(\"this is my third line\")\n",
        "file.close()"
      ],
      "metadata": {
        "id": "_OGOBK9wvPPm"
      },
      "execution_count": 23,
      "outputs": []
    },
    {
      "cell_type": "markdown",
      "source": [
        "Q-11 WRITE A PYTHON PROGRAM THAT USES A TRY-EXCEPT BLOCK TO HANDLE AN ERROR WHEN ATTEMPTING TO ACCESS A DICTIONART KEY THAT DOESNOT EXISTS?"
      ],
      "metadata": {
        "id": "na1a5MAIT9By"
      }
    },
    {
      "cell_type": "code",
      "source": [
        "data = {\"name\" : \"bhavika\" , \"course\" : \"science\" , \"fee\" : 2000}\n",
        "data"
      ],
      "metadata": {
        "colab": {
          "base_uri": "https://localhost:8080/"
        },
        "id": "DhZDIlGIvnmA",
        "outputId": "ebb564b5-5cb5-46dd-a786-061ab70644a8"
      },
      "execution_count": 24,
      "outputs": [
        {
          "output_type": "execute_result",
          "data": {
            "text/plain": [
              "{'name': 'bhavika', 'course': 'science', 'fee': 2000}"
            ]
          },
          "metadata": {},
          "execution_count": 24
        }
      ]
    },
    {
      "cell_type": "code",
      "source": [
        "import json\n",
        "with open(\"file_json.json\" , \"w\") as f:\n",
        "  json.dump(data,f)\n",
        ""
      ],
      "metadata": {
        "id": "fJHygpqFwlTJ"
      },
      "execution_count": 26,
      "outputs": []
    },
    {
      "cell_type": "code",
      "source": [
        "with open(\"file_json.json\" , \"r\") as f:\n",
        "  json.load(f)\n",
        "  print(data)"
      ],
      "metadata": {
        "colab": {
          "base_uri": "https://localhost:8080/"
        },
        "id": "PyEhNeSzxE1R",
        "outputId": "f7eeaae2-dd24-4e98-c3f0-aa95456cb434"
      },
      "execution_count": 27,
      "outputs": [
        {
          "output_type": "stream",
          "name": "stdout",
          "text": [
            "{'name': 'bhavika', 'course': 'science', 'fee': 2000}\n"
          ]
        }
      ]
    },
    {
      "cell_type": "markdown",
      "source": [
        "Q-12 WRITE A PROGRAM THAT DEMONSTRATE USING MULTIPLE EXCEPT BLOCKS TO HANDLE DIFFERENT TYPES OF EXCEPTIONS?"
      ],
      "metadata": {
        "id": "gRS5moc9UOrf"
      }
    },
    {
      "cell_type": "code",
      "source": [
        "def divide_numbers(a,b):\n",
        "  try:\n",
        "    result = a / b\n",
        "    print(f\"the result is {result}\")\n",
        "except ZeroDivisionError:\n",
        "  print(\"Error: Division by zero is not allowed\")\n",
        "except TypeError:\n",
        "  print(\"Error : both inputs must be numbers\")\n",
        "except Exception as e :\n",
        "  print(f\"an unexpected error occur : {e}\")"
      ],
      "metadata": {
        "colab": {
          "base_uri": "https://localhost:8080/",
          "height": 105
        },
        "id": "orcmZXtWxar1",
        "outputId": "ec86e699-4151-44ec-e688-2e6952807f8c"
      },
      "execution_count": 30,
      "outputs": [
        {
          "output_type": "error",
          "ename": "SyntaxError",
          "evalue": "expected 'except' or 'finally' block (<ipython-input-30-e824076452ed>, line 5)",
          "traceback": [
            "\u001b[0;36m  File \u001b[0;32m\"<ipython-input-30-e824076452ed>\"\u001b[0;36m, line \u001b[0;32m5\u001b[0m\n\u001b[0;31m    except ZeroDivisionError:\u001b[0m\n\u001b[0m                             ^\u001b[0m\n\u001b[0;31mSyntaxError\u001b[0m\u001b[0;31m:\u001b[0m expected 'except' or 'finally' block\n"
          ]
        }
      ]
    },
    {
      "cell_type": "markdown",
      "source": [
        "Q-13 HOW WOULD YOU CHECK IF A FILE EXISTS BEFORE ATTEMPTING TOP READ IT IN PYTHON?"
      ],
      "metadata": {
        "id": "Tl9ISqwdUbd6"
      }
    },
    {
      "cell_type": "code",
      "source": [
        "import os\n",
        "def check_file_exists(file_path):\n",
        "  if os.path.exists(file_path):\n",
        "    print(f\"the file{file_path} exists\")\n",
        "    with open(file_path,\"r\") as file:\n",
        "      data = file.read()\n",
        "      print(data)\n",
        " else:\n",
        "  print(f\"the file{file_path} doesnot exists\")\n",
        "\n",
        "\n"
      ],
      "metadata": {
        "colab": {
          "base_uri": "https://localhost:8080/",
          "height": 105
        },
        "id": "pU9u1BoZzc1o",
        "outputId": "d662e00f-2b00-4e2a-e84d-a24167b53a58"
      },
      "execution_count": 35,
      "outputs": [
        {
          "output_type": "error",
          "ename": "IndentationError",
          "evalue": "unindent does not match any outer indentation level (<tokenize>, line 8)",
          "traceback": [
            "\u001b[0;36m  File \u001b[0;32m\"<tokenize>\"\u001b[0;36m, line \u001b[0;32m8\u001b[0m\n\u001b[0;31m    else:\u001b[0m\n\u001b[0m    ^\u001b[0m\n\u001b[0;31mIndentationError\u001b[0m\u001b[0;31m:\u001b[0m unindent does not match any outer indentation level\n"
          ]
        }
      ]
    },
    {
      "cell_type": "markdown",
      "source": [
        "Q-14 WRITE A PROGRAM THAT USES THE LOGGING MODULE TO LOG BOTH INFORMATIONAL AND ERROR MESSAGES?\n"
      ],
      "metadata": {
        "id": "4JXGyqQiUowX"
      }
    },
    {
      "cell_type": "markdown",
      "source": [
        "Q-15 WRITE A PYTHON PROGRAM THAT PRINT THE CONTENTS OF A FILE AND HANDLES THE CASE WHEN THE FILE IS EMPTY?\n"
      ],
      "metadata": {
        "id": "Qh6VNarEU1ZF"
      }
    },
    {
      "cell_type": "markdown",
      "source": [
        "Q-16 DEMONSTRATE HOW TO USE MEMORY PROFILING TO CHECK THE MEMORY USAGE OF A SMALL PROGRAM?"
      ],
      "metadata": {
        "id": "uwXfipItVDpP"
      }
    },
    {
      "cell_type": "markdown",
      "source": [
        "Q-17 WRITE A PYTHON PROGRAM TO CREATE AND WRITE A LIST OF NUMBERS TO A FILE, ONE NUMBER PER LINE?"
      ],
      "metadata": {
        "id": "5AdK3cNAVTSd"
      }
    },
    {
      "cell_type": "markdown",
      "source": [
        "Q-18 HOW WOULD YOU IMPLEMENT A BASIC LOGGING SETUP THAT LOGS TO A FILE WITH ROTATION AFTER IMB?"
      ],
      "metadata": {
        "id": "sKcq3-JyVfi_"
      }
    },
    {
      "cell_type": "markdown",
      "source": [
        "Q-19 WRITE A PROGRAM THAT HANDLES BOTH INDEXERROR AND KEYERROR USING A TRY-EXCEPT BLOCK?"
      ],
      "metadata": {
        "id": "4wQSqIwEVrP6"
      }
    },
    {
      "cell_type": "markdown",
      "source": [
        "Q-20 HOW WOULD YOU OPEN A FILE AND READS ITS CONTENTS USING A CONTEXT MANAGER IN PYTHON?"
      ],
      "metadata": {
        "id": "IGQzw22uV2x3"
      }
    },
    {
      "cell_type": "markdown",
      "source": [
        "Q-21 WRITE A PYTHON PROGRAM THAT READS A FILE AND PRINTS THE NUMBER OF OCCURENCES OF A SPECIFIC WORD?"
      ],
      "metadata": {
        "id": "D1KixruzWBLf"
      }
    },
    {
      "cell_type": "markdown",
      "source": [
        "Q-22 HOW CAN YOU CHECK IF A FILE IS EMPTY BEFORE ATTEMPTING TO READ ITS CONTENTS?"
      ],
      "metadata": {
        "id": "IeL63pytWPcD"
      }
    },
    {
      "cell_type": "markdown",
      "source": [
        "Q-23 WRITE A PYTHON PROGRAM THAT WRITES TO A LOG FILE WHEM AN ERROR OCCURS DURING FILE HANDLING?"
      ],
      "metadata": {
        "id": "DExLo70aWaCp"
      }
    },
    {
      "cell_type": "code",
      "source": [],
      "metadata": {
        "id": "Kw0oFFHKWZOQ"
      },
      "execution_count": null,
      "outputs": []
    },
    {
      "cell_type": "code",
      "source": [],
      "metadata": {
        "id": "cRVPHd0ZRmv5"
      },
      "execution_count": null,
      "outputs": []
    }
  ]
}